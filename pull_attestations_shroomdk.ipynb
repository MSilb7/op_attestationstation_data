{
 "cells": [
  {
   "cell_type": "code",
   "execution_count": null,
   "metadata": {},
   "outputs": [],
   "source": [
    "from shroomdk import ShroomDK\n",
    "import os\n",
    "from dotenv import load_dotenv\n",
    "import pandas as pd\n",
    "from datetime import date\n",
    "\n",
    "load_dotenv()\n",
    "\n",
    "API_KEY = os.getenv('FLIPSIDE_SHROOMDK_KEY')\n",
    "\n",
    "# Initialize `ShroomDK` with your API Key\n",
    "sdk = ShroomDK(API_KEY)"
   ]
  },
  {
   "cell_type": "code",
   "execution_count": null,
   "metadata": {},
   "outputs": [],
   "source": [
    "# https://app.flipsidecrypto.com/velocity/queries/db09836f-54c8-4063-8ce9-3d4f27d246e4\n",
    "# Read the above sql from a file and assign to `sql` variable\n",
    "sql_statement = open(\"sql/attestation_query.sql\").read()\n",
    "\n",
    "# Run the query against Flipside's query engine \n",
    "# and await the results\n",
    "go_to_next_page = True\n",
    "start_page_number = 1\n",
    "start_page_size = 100_000\n",
    "df_list = []\n",
    "while go_to_next_page:\n",
    "        query_result_set = sdk.query(sql_statement, page_number= start_page_number, page_size= start_page_size)\n",
    "        records = query_result_set.records\n",
    "        print('num records: ' + str(query_result_set.run_stats.record_count) + ' | page: ' + str(start_page_number))\n",
    "        if not records:\n",
    "                go_to_next_page = False\n",
    "                break #get out\n",
    "        elif query_result_set.run_stats.record_count < start_page_size: # at max\n",
    "                go_to_next_page = False\n",
    "        else:\n",
    "               start_page_number = start_page_number+1 #go to next page\n",
    "        # Append df\n",
    "        rdf = pd.DataFrame(records)\n",
    "        df_list.append(rdf)\n",
    "\n",
    "data_df = pd.concat(df_list)\n",
    "data_df.sample(10)"
   ]
  },
  {
   "cell_type": "code",
   "execution_count": null,
   "metadata": {},
   "outputs": [],
   "source": [
    "today = date.today().strftime(\"%m_%d_%Y\")\n",
    "fn = 'attestation_data_' + today + '.csv'\n",
    "print(fn)\n",
    "data_df.to_csv(fn, escapechar='\\\\')"
   ]
  },
  {
   "cell_type": "code",
   "execution_count": null,
   "metadata": {},
   "outputs": [],
   "source": [
    "# ! jupyter nbconvert --to python pull_attestations_shroomdk.ipynb"
   ]
  }
 ],
 "metadata": {
  "kernelspec": {
   "display_name": "new-env",
   "language": "python",
   "name": "python3"
  },
  "language_info": {
   "codemirror_mode": {
    "name": "ipython",
    "version": 3
   },
   "file_extension": ".py",
   "mimetype": "text/x-python",
   "name": "python",
   "nbconvert_exporter": "python",
   "pygments_lexer": "ipython3",
   "version": "3.10.9"
  },
  "orig_nbformat": 4,
  "vscode": {
   "interpreter": {
    "hash": "7d537a1638226190f579d6fbb68604c1b09ebc740a69df557abedb49ad78e592"
   }
  }
 },
 "nbformat": 4,
 "nbformat_minor": 2
}
